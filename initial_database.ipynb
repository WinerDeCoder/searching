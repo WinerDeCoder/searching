{
 "cells": [
  {
   "cell_type": "code",
   "execution_count": null,
   "metadata": {},
   "outputs": [],
   "source": [
    "!pip install chromadb\n",
    "!pip install openai"
   ]
  },
  {
   "cell_type": "code",
   "execution_count": 1,
   "metadata": {},
   "outputs": [],
   "source": [
    "import chromadb\n",
    "from chromadb.config import Settings\n",
    "import os"
   ]
  },
  {
   "cell_type": "code",
   "execution_count": null,
   "metadata": {},
   "outputs": [],
   "source": [
    "import os\n",
    "from dotenv import load_dotenv\n",
    "load_dotenv()\n",
    "\n",
    "OPENAI_API_KEY = os.getenv(\"OPENAI_API_KEY\")"
   ]
  },
  {
   "cell_type": "code",
   "execution_count": 14,
   "metadata": {},
   "outputs": [],
   "source": [
    "list_title = [\n",
    "    \"How the 3-3-3 Rule for Anxiety Can Calm Your Mind\",\n",
    "    \"20 Funny Quotes About Anxiety to Lighten Your Mental Load\",\n",
    "    \"What Happens When Someone Has a Nervous Breakdown?\",\n",
    "    \"Why Do I Feel Nauseous?\",\n",
    "    \"10 Sneaky Signs Stress Is Showing Up in Your Body\",\n",
    "    \"What It Means to Feel 'Angsty' and How to Cope\",\n",
    "    \"Why the Beach Is Good for Your Mental Health\",\n",
    "    \"Can Your Heart Hurt From Stress?\",\n",
    "    \"The 6 Types of Basic Emotions and Their Effect on Human Behavior\",\n",
    "    \"Emotions and Types of Emotional Responses\",\n",
    "    \"Psychological Flexibility\",\n",
    "    \"How to Embrace Radical Acceptance\",\n",
    "    \"What Happens to Your Brain When You Meditate Every Day?\",\n",
    "    \"How Often Do I Need to Meditate to Feel the Benefits?\",\n",
    "    \"When Is the Best Time to Meditate?\",\n",
    "    \"What to Know About Crying During Meditation\",\n",
    "]\n"
   ]
  },
  {
   "cell_type": "code",
   "execution_count": null,
   "metadata": {},
   "outputs": [],
   "source": [
    "import chromadb.utils.embedding_functions as embedding_functions\n",
    "openai_ef = embedding_functions.OpenAIEmbeddingFunction(\n",
    "                api_key=OPENAI_API_KEY,\n",
    "                model_name=\"text-embedding-3-large\"\n",
    "            )"
   ]
  },
  {
   "cell_type": "code",
   "execution_count": 2,
   "metadata": {},
   "outputs": [],
   "source": [
    "\n",
    "\n",
    "client = chromadb.PersistentClient(path=\"chromadb\")\n",
    "\n"
   ]
  },
  {
   "cell_type": "code",
   "execution_count": 4,
   "metadata": {},
   "outputs": [],
   "source": [
    "collection = client.get_or_create_collection(name=\"title_embed\", embedding_function=openai_ef, metadata={\"hnsw:space\": \"cosine\"})"
   ]
  },
  {
   "cell_type": "code",
   "execution_count": null,
   "metadata": {},
   "outputs": [],
   "source": [
    "# collection.update(\n",
    "#     ids=[str(i) for i in range(len(list_title))]\n",
    "# )\n",
    "\n",
    "\n",
    "\n",
    "\n",
    "collection.add(\n",
    "    documents=list_title,\n",
    "    ids = [str(i) for i in range(len(list_title))]\n",
    ")"
   ]
  },
  {
   "cell_type": "code",
   "execution_count": 18,
   "metadata": {},
   "outputs": [
    {
     "data": {
      "text/plain": [
       "<chromadb.utils.embedding_functions.OpenAIEmbeddingFunction at 0x1f7a81ac100>"
      ]
     },
     "execution_count": 18,
     "metadata": {},
     "output_type": "execute_result"
    }
   ],
   "source": [
    "openai_ef"
   ]
  },
  {
   "cell_type": "code",
   "execution_count": 16,
   "metadata": {},
   "outputs": [],
   "source": [
    "collection = client.get_or_create_collection(name=\"question\", embedding_function=openai_ef, metadata={\"hnsw:space\": \"cosine\"})"
   ]
  },
  {
   "cell_type": "code",
   "execution_count": 20,
   "metadata": {},
   "outputs": [
    {
     "data": {
      "text/plain": [
       "<chromadb.utils.embedding_functions.OpenAIEmbeddingFunction at 0x1f7a81ac100>"
      ]
     },
     "execution_count": 20,
     "metadata": {},
     "output_type": "execute_result"
    }
   ],
   "source": [
    "collection._embedding_function"
   ]
  },
  {
   "cell_type": "code",
   "execution_count": 8,
   "metadata": {},
   "outputs": [
    {
     "data": {
      "text/plain": [
       "16"
      ]
     },
     "execution_count": 8,
     "metadata": {},
     "output_type": "execute_result"
    }
   ],
   "source": [
    "num_documents = collection.count()\n",
    "num_documents"
   ]
  },
  {
   "cell_type": "code",
   "execution_count": null,
   "metadata": {},
   "outputs": [],
   "source": [
    "collection.add(\n",
    "    documents=list_question,\n",
    "    metadata = [{\"video\": f\"{i}.mp4\"} for i in range(len(list_question))],\n",
    "    ids = [str(i) for i in range(len(list_question))]\n",
    ")"
   ]
  },
  {
   "cell_type": "code",
   "execution_count": 13,
   "metadata": {},
   "outputs": [],
   "source": [
    "results = collection.query(\n",
    "    query_texts=[\"Có nên sử dụng thêm phân Lân cho lúa ở giai đoạn đón đồng không?\"], # Chroma will embed this for you\n",
    "    n_results=3 # how many results to return\n",
    ")\n",
    "\n"
   ]
  },
  {
   "cell_type": "code",
   "execution_count": 15,
   "metadata": {},
   "outputs": [
    {
     "data": {
      "text/plain": [
       "{'ids': [['14', '3', '13']],\n",
       " 'distances': [[0.8892300363597974, 0.8975847226284056, 0.9192295845795189]],\n",
       " 'metadatas': [[None, None, None]],\n",
       " 'embeddings': None,\n",
       " 'documents': [['When Is the Best Time to Meditate?',\n",
       "   'Why Do I Feel Nauseous?',\n",
       "   'How Often Do I Need to Meditate to Feel the Benefits?']],\n",
       " 'uris': None,\n",
       " 'data': None,\n",
       " 'included': ['metadatas', 'documents', 'distances']}"
      ]
     },
     "execution_count": 15,
     "metadata": {},
     "output_type": "execute_result"
    }
   ],
   "source": [
    "results"
   ]
  },
  {
   "cell_type": "code",
   "execution_count": null,
   "metadata": {},
   "outputs": [],
   "source": []
  },
  {
   "cell_type": "code",
   "execution_count": 32,
   "metadata": {},
   "outputs": [
    {
     "data": {
      "text/plain": [
       "'0.mp4'"
      ]
     },
     "execution_count": 32,
     "metadata": {},
     "output_type": "execute_result"
    }
   ],
   "source": [
    "results[\"metadatas\"][0][0][\"video\"]"
   ]
  },
  {
   "cell_type": "code",
   "execution_count": null,
   "metadata": {},
   "outputs": [],
   "source": []
  },
  {
   "cell_type": "code",
   "execution_count": null,
   "metadata": {},
   "outputs": [],
   "source": []
  },
  {
   "cell_type": "code",
   "execution_count": 4,
   "metadata": {},
   "outputs": [
    {
     "ename": "NameError",
     "evalue": "name 'Chroma' is not defined",
     "output_type": "error",
     "traceback": [
      "\u001b[1;31m---------------------------------------------------------------------------\u001b[0m",
      "\u001b[1;31mNameError\u001b[0m                                 Traceback (most recent call last)",
      "Input \u001b[1;32mIn [4]\u001b[0m, in \u001b[0;36m<cell line: 1>\u001b[1;34m()\u001b[0m\n\u001b[1;32m----> 1\u001b[0m chroma_quest \u001b[38;5;241m=\u001b[39m \u001b[43mChroma\u001b[49m(collection_name\u001b[38;5;241m=\u001b[39m \u001b[38;5;124m\"\u001b[39m\u001b[38;5;124mquestions\u001b[39m\u001b[38;5;124m\"\u001b[39m, embedding_function\u001b[38;5;241m=\u001b[39mopenai_ef)\n",
      "\u001b[1;31mNameError\u001b[0m: name 'Chroma' is not defined"
     ]
    }
   ],
   "source": [
    "chroma_quest = Chroma(collection_name= \"questions\", embedding_function=openai_ef)"
   ]
  },
  {
   "cell_type": "code",
   "execution_count": null,
   "metadata": {},
   "outputs": [],
   "source": []
  },
  {
   "cell_type": "code",
   "execution_count": null,
   "metadata": {},
   "outputs": [],
   "source": []
  },
  {
   "cell_type": "code",
   "execution_count": null,
   "metadata": {},
   "outputs": [],
   "source": []
  },
  {
   "cell_type": "code",
   "execution_count": 2,
   "metadata": {},
   "outputs": [
    {
     "name": "stdout",
     "output_type": "stream",
     "text": [
      "Thread(id='thread_qpUcny3mywjwE1KX8H53pjrx', created_at=1732853610, metadata={}, object='thread', tool_resources=ToolResources(code_interpreter=ToolResourcesCodeInterpreter(file_ids=[]), file_search=None))\n"
     ]
    }
   ],
   "source": [
    "from openai import OpenAI\n",
    "import os\n",
    "from dotenv import load_dotenv\n",
    "load_dotenv()\n",
    "client = OpenAI()\n",
    "\n",
    "my_thread = client.beta.threads.retrieve(\"thread_qpUcny3mywjwE1KX8H53pjrx\")\n",
    "print(my_thread)"
   ]
  },
  {
   "cell_type": "code",
   "execution_count": 12,
   "metadata": {},
   "outputs": [
    {
     "name": "stdout",
     "output_type": "stream",
     "text": [
      "[Message(id='msg_T0IFpWoiYimAQGsIkxBpYjAG', assistant_id='asst_cTH6CNfojqSU96JflpX8Tuy1', attachments=[], completed_at=None, content=[TextContentBlock(text=Text(annotations=[], value='Có vẻ như bạn đang gặp vấn đề với trầm cảm. Nếu bạn muốn, hãy chia sẻ thêm về cảm giác của mình hoặc những gì bạn đang trải qua. Tôi có thể giúp bạn tìm hiểu thêm về cách quản lý tình trạng này.'), type='text')], created_at=1732853955, incomplete_at=None, incomplete_details=None, metadata={}, object='thread.message', role='assistant', run_id='run_JT9p5dg5LrFbU7HrmgkCP4Hg', status=None, thread_id='thread_qpUcny3mywjwE1KX8H53pjrx'), Message(id='msg_3kt0qlvVRXvj3t6ll2In2lyL', assistant_id=None, attachments=[], completed_at=None, content=[TextContentBlock(text=Text(annotations=[], value=\"[Message(id='msg_mcmiOkEDb2EpFJvZRjWdRv9D', assistant_id='asst_cTH6CNfojqSU96JflpX8Tuy1', attachments=[], completed_at=None, content=[TextContentBlock(text=Text(annotations=[], value='Hello! How can I assist you today?'), type='text')], created_at=1732853816, incomplete_at=None, incomplete_details=None, metadata={}, object='thread.message', role='assistant', run_id='run_7fL7t1uMs6U6wRLp2taIaeD0', status=None, thread_id='thread_qpUcny3mywjwE1KX8H53pjrx'), Message(id='msg_ZVP2hVyvC9GEI1ItlW8R9XNx', assistant_id=None, attachments=[], completed_at=None, content=[TextContentBlock(text=Text(annotations=[], value='hello boy'), type='text')], created_at=1732853814, incomplete_at=None, incomplete_details=None, metadata={}, object='thread.message', role='user', run_id=None, status=None, thread_id='thread_qpUcny3mywjwE1KX8H53pjrx'), Message(id='msg_JhM4VupkJxKdkuxv1vr9710S', assistant_id='asst_cTH6CNfojqSU96JflpX8Tuy1', attachments=[], completed_at=None, content=[TextContentBlock(text=Text(annotations=[], value='Chào Phúc! Trầm cảm là một tình trạng tâm lý nghiêm trọng. Bạn có thể chia sẻ thêm về cảm giác của mình hoặc những triệu chứng bạn đang gặp phải không? Tôi có thể giúp bạn tìm hiểu thêm về cách quản lý hoặc tìm kiếm sự hỗ trợ.'), type='text')], created_at=1732853656, incomplete_at=None, incomplete_details=None, metadata={}, object='thread.message', role='assistant', run_id='run_wP0kcacBH9ZnQPXo0IocTY9s', status=None, thread_id='thread_qpUcny3mywjwE1KX8H53pjrx'), Message(id='msg_rxNjIGU3z0IDUbrIuKvyYnGr', assistant_id=None, attachments=[], completed_at=None, content=[TextContentBlock(text=Text(annotations=[], value='Tôi tên là Phúc, tôi đang bị trầm kamr'), type='text')], created_at=1732853654, incomplete_at=None, incomplete_details=None, metadata={}, object='thread.message', role='user', run_id=None, status=None, thread_id='thread_qpUcny3mywjwE1KX8H53pjrx'), Message(id='msg_ElqqhstU2nHGl3CPnqrPvS3V', assistant_id='asst_cTH6CNfojqSU96JflpX8Tuy1', attachments=[], completed_at=None, content=[TextContentBlock(text=Text(annotations=[], value='Chào bạn! Bạn cần tôi giúp gì hôm nay?'), type='text')], created_at=1732853618, incomplete_at=None, incomplete_details=None, metadata={}, object='thread.message', role='assistant', run_id='run_sqGn0WSSLlWDcPtX3BweTc3j', status=None, thread_id='thread_qpUcny3mywjwE1KX8H53pjrx'), Message(id='msg_r93yUVsK7MTPUmBUIVKbaa68', assistant_id=None, attachments=[], completed_at=None, content=[TextContentBlock(text=Text(annotations=[], value='alo'), type='text')], created_at=1732853616, incomplete_at=None, incomplete_details=None, metadata={}, object='thread.message', role='user', run_id=None, status=None, thread_id='thread_qpUcny3mywjwE1KX8H53pjrx')]\"), type='text')], created_at=1732853954, incomplete_at=None, incomplete_details=None, metadata={}, object='thread.message', role='user', run_id=None, status=None, thread_id='thread_qpUcny3mywjwE1KX8H53pjrx'), Message(id='msg_mcmiOkEDb2EpFJvZRjWdRv9D', assistant_id='asst_cTH6CNfojqSU96JflpX8Tuy1', attachments=[], completed_at=None, content=[TextContentBlock(text=Text(annotations=[], value='Hello! How can I assist you today?'), type='text')], created_at=1732853816, incomplete_at=None, incomplete_details=None, metadata={}, object='thread.message', role='assistant', run_id='run_7fL7t1uMs6U6wRLp2taIaeD0', status=None, thread_id='thread_qpUcny3mywjwE1KX8H53pjrx'), Message(id='msg_ZVP2hVyvC9GEI1ItlW8R9XNx', assistant_id=None, attachments=[], completed_at=None, content=[TextContentBlock(text=Text(annotations=[], value='hello boy'), type='text')], created_at=1732853814, incomplete_at=None, incomplete_details=None, metadata={}, object='thread.message', role='user', run_id=None, status=None, thread_id='thread_qpUcny3mywjwE1KX8H53pjrx'), Message(id='msg_JhM4VupkJxKdkuxv1vr9710S', assistant_id='asst_cTH6CNfojqSU96JflpX8Tuy1', attachments=[], completed_at=None, content=[TextContentBlock(text=Text(annotations=[], value='Chào Phúc! Trầm cảm là một tình trạng tâm lý nghiêm trọng. Bạn có thể chia sẻ thêm về cảm giác của mình hoặc những triệu chứng bạn đang gặp phải không? Tôi có thể giúp bạn tìm hiểu thêm về cách quản lý hoặc tìm kiếm sự hỗ trợ.'), type='text')], created_at=1732853656, incomplete_at=None, incomplete_details=None, metadata={}, object='thread.message', role='assistant', run_id='run_wP0kcacBH9ZnQPXo0IocTY9s', status=None, thread_id='thread_qpUcny3mywjwE1KX8H53pjrx'), Message(id='msg_rxNjIGU3z0IDUbrIuKvyYnGr', assistant_id=None, attachments=[], completed_at=None, content=[TextContentBlock(text=Text(annotations=[], value='Tôi tên là Phúc, tôi đang bị trầm kamr'), type='text')], created_at=1732853654, incomplete_at=None, incomplete_details=None, metadata={}, object='thread.message', role='user', run_id=None, status=None, thread_id='thread_qpUcny3mywjwE1KX8H53pjrx'), Message(id='msg_ElqqhstU2nHGl3CPnqrPvS3V', assistant_id='asst_cTH6CNfojqSU96JflpX8Tuy1', attachments=[], completed_at=None, content=[TextContentBlock(text=Text(annotations=[], value='Chào bạn! Bạn cần tôi giúp gì hôm nay?'), type='text')], created_at=1732853618, incomplete_at=None, incomplete_details=None, metadata={}, object='thread.message', role='assistant', run_id='run_sqGn0WSSLlWDcPtX3BweTc3j', status=None, thread_id='thread_qpUcny3mywjwE1KX8H53pjrx'), Message(id='msg_r93yUVsK7MTPUmBUIVKbaa68', assistant_id=None, attachments=[], completed_at=None, content=[TextContentBlock(text=Text(annotations=[], value='alo'), type='text')], created_at=1732853616, incomplete_at=None, incomplete_details=None, metadata={}, object='thread.message', role='user', run_id=None, status=None, thread_id='thread_qpUcny3mywjwE1KX8H53pjrx')]\n"
     ]
    }
   ],
   "source": [
    "from openai import OpenAI\n",
    "import json\n",
    "client = OpenAI()\n",
    "\n",
    "thread_messages = client.beta.threads.messages.list(\"thread_qpUcny3mywjwE1KX8H53pjrx\")\n",
    "print(thread_messages.data)\n",
    "\n",
    "\n"
   ]
  },
  {
   "cell_type": "code",
   "execution_count": 10,
   "metadata": {},
   "outputs": [
    {
     "data": {
      "text/plain": [
       "SyncCursorPage[Message](data=[Message(id='msg_T0IFpWoiYimAQGsIkxBpYjAG', assistant_id='asst_cTH6CNfojqSU96JflpX8Tuy1', attachments=[], completed_at=None, content=[TextContentBlock(text=Text(annotations=[], value='Có vẻ như bạn đang gặp vấn đề với trầm cảm. Nếu bạn muốn, hãy chia sẻ thêm về cảm giác của mình hoặc những gì bạn đang trải qua. Tôi có thể giúp bạn tìm hiểu thêm về cách quản lý tình trạng này.'), type='text')], created_at=1732853955, incomplete_at=None, incomplete_details=None, metadata={}, object='thread.message', role='assistant', run_id='run_JT9p5dg5LrFbU7HrmgkCP4Hg', status=None, thread_id='thread_qpUcny3mywjwE1KX8H53pjrx'), Message(id='msg_3kt0qlvVRXvj3t6ll2In2lyL', assistant_id=None, attachments=[], completed_at=None, content=[TextContentBlock(text=Text(annotations=[], value=\"[Message(id='msg_mcmiOkEDb2EpFJvZRjWdRv9D', assistant_id='asst_cTH6CNfojqSU96JflpX8Tuy1', attachments=[], completed_at=None, content=[TextContentBlock(text=Text(annotations=[], value='Hello! How can I assist you today?'), type='text')], created_at=1732853816, incomplete_at=None, incomplete_details=None, metadata={}, object='thread.message', role='assistant', run_id='run_7fL7t1uMs6U6wRLp2taIaeD0', status=None, thread_id='thread_qpUcny3mywjwE1KX8H53pjrx'), Message(id='msg_ZVP2hVyvC9GEI1ItlW8R9XNx', assistant_id=None, attachments=[], completed_at=None, content=[TextContentBlock(text=Text(annotations=[], value='hello boy'), type='text')], created_at=1732853814, incomplete_at=None, incomplete_details=None, metadata={}, object='thread.message', role='user', run_id=None, status=None, thread_id='thread_qpUcny3mywjwE1KX8H53pjrx'), Message(id='msg_JhM4VupkJxKdkuxv1vr9710S', assistant_id='asst_cTH6CNfojqSU96JflpX8Tuy1', attachments=[], completed_at=None, content=[TextContentBlock(text=Text(annotations=[], value='Chào Phúc! Trầm cảm là một tình trạng tâm lý nghiêm trọng. Bạn có thể chia sẻ thêm về cảm giác của mình hoặc những triệu chứng bạn đang gặp phải không? Tôi có thể giúp bạn tìm hiểu thêm về cách quản lý hoặc tìm kiếm sự hỗ trợ.'), type='text')], created_at=1732853656, incomplete_at=None, incomplete_details=None, metadata={}, object='thread.message', role='assistant', run_id='run_wP0kcacBH9ZnQPXo0IocTY9s', status=None, thread_id='thread_qpUcny3mywjwE1KX8H53pjrx'), Message(id='msg_rxNjIGU3z0IDUbrIuKvyYnGr', assistant_id=None, attachments=[], completed_at=None, content=[TextContentBlock(text=Text(annotations=[], value='Tôi tên là Phúc, tôi đang bị trầm kamr'), type='text')], created_at=1732853654, incomplete_at=None, incomplete_details=None, metadata={}, object='thread.message', role='user', run_id=None, status=None, thread_id='thread_qpUcny3mywjwE1KX8H53pjrx'), Message(id='msg_ElqqhstU2nHGl3CPnqrPvS3V', assistant_id='asst_cTH6CNfojqSU96JflpX8Tuy1', attachments=[], completed_at=None, content=[TextContentBlock(text=Text(annotations=[], value='Chào bạn! Bạn cần tôi giúp gì hôm nay?'), type='text')], created_at=1732853618, incomplete_at=None, incomplete_details=None, metadata={}, object='thread.message', role='assistant', run_id='run_sqGn0WSSLlWDcPtX3BweTc3j', status=None, thread_id='thread_qpUcny3mywjwE1KX8H53pjrx'), Message(id='msg_r93yUVsK7MTPUmBUIVKbaa68', assistant_id=None, attachments=[], completed_at=None, content=[TextContentBlock(text=Text(annotations=[], value='alo'), type='text')], created_at=1732853616, incomplete_at=None, incomplete_details=None, metadata={}, object='thread.message', role='user', run_id=None, status=None, thread_id='thread_qpUcny3mywjwE1KX8H53pjrx')]\"), type='text')], created_at=1732853954, incomplete_at=None, incomplete_details=None, metadata={}, object='thread.message', role='user', run_id=None, status=None, thread_id='thread_qpUcny3mywjwE1KX8H53pjrx'), Message(id='msg_mcmiOkEDb2EpFJvZRjWdRv9D', assistant_id='asst_cTH6CNfojqSU96JflpX8Tuy1', attachments=[], completed_at=None, content=[TextContentBlock(text=Text(annotations=[], value='Hello! How can I assist you today?'), type='text')], created_at=1732853816, incomplete_at=None, incomplete_details=None, metadata={}, object='thread.message', role='assistant', run_id='run_7fL7t1uMs6U6wRLp2taIaeD0', status=None, thread_id='thread_qpUcny3mywjwE1KX8H53pjrx'), Message(id='msg_ZVP2hVyvC9GEI1ItlW8R9XNx', assistant_id=None, attachments=[], completed_at=None, content=[TextContentBlock(text=Text(annotations=[], value='hello boy'), type='text')], created_at=1732853814, incomplete_at=None, incomplete_details=None, metadata={}, object='thread.message', role='user', run_id=None, status=None, thread_id='thread_qpUcny3mywjwE1KX8H53pjrx'), Message(id='msg_JhM4VupkJxKdkuxv1vr9710S', assistant_id='asst_cTH6CNfojqSU96JflpX8Tuy1', attachments=[], completed_at=None, content=[TextContentBlock(text=Text(annotations=[], value='Chào Phúc! Trầm cảm là một tình trạng tâm lý nghiêm trọng. Bạn có thể chia sẻ thêm về cảm giác của mình hoặc những triệu chứng bạn đang gặp phải không? Tôi có thể giúp bạn tìm hiểu thêm về cách quản lý hoặc tìm kiếm sự hỗ trợ.'), type='text')], created_at=1732853656, incomplete_at=None, incomplete_details=None, metadata={}, object='thread.message', role='assistant', run_id='run_wP0kcacBH9ZnQPXo0IocTY9s', status=None, thread_id='thread_qpUcny3mywjwE1KX8H53pjrx'), Message(id='msg_rxNjIGU3z0IDUbrIuKvyYnGr', assistant_id=None, attachments=[], completed_at=None, content=[TextContentBlock(text=Text(annotations=[], value='Tôi tên là Phúc, tôi đang bị trầm kamr'), type='text')], created_at=1732853654, incomplete_at=None, incomplete_details=None, metadata={}, object='thread.message', role='user', run_id=None, status=None, thread_id='thread_qpUcny3mywjwE1KX8H53pjrx'), Message(id='msg_ElqqhstU2nHGl3CPnqrPvS3V', assistant_id='asst_cTH6CNfojqSU96JflpX8Tuy1', attachments=[], completed_at=None, content=[TextContentBlock(text=Text(annotations=[], value='Chào bạn! Bạn cần tôi giúp gì hôm nay?'), type='text')], created_at=1732853618, incomplete_at=None, incomplete_details=None, metadata={}, object='thread.message', role='assistant', run_id='run_sqGn0WSSLlWDcPtX3BweTc3j', status=None, thread_id='thread_qpUcny3mywjwE1KX8H53pjrx'), Message(id='msg_r93yUVsK7MTPUmBUIVKbaa68', assistant_id=None, attachments=[], completed_at=None, content=[TextContentBlock(text=Text(annotations=[], value='alo'), type='text')], created_at=1732853616, incomplete_at=None, incomplete_details=None, metadata={}, object='thread.message', role='user', run_id=None, status=None, thread_id='thread_qpUcny3mywjwE1KX8H53pjrx')], object='list', first_id='msg_T0IFpWoiYimAQGsIkxBpYjAG', last_id='msg_r93yUVsK7MTPUmBUIVKbaa68', has_more=False)"
      ]
     },
     "execution_count": 10,
     "metadata": {},
     "output_type": "execute_result"
    }
   ],
   "source": [
    "thread_messages"
   ]
  }
 ],
 "metadata": {
  "kernelspec": {
   "display_name": "Python 3",
   "language": "python",
   "name": "python3"
  },
  "language_info": {
   "codemirror_mode": {
    "name": "ipython",
    "version": 3
   },
   "file_extension": ".py",
   "mimetype": "text/x-python",
   "name": "python",
   "nbconvert_exporter": "python",
   "pygments_lexer": "ipython3",
   "version": "3.10.11"
  }
 },
 "nbformat": 4,
 "nbformat_minor": 2
}
